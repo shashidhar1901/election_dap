{
 "cells": [
  {
   "cell_type": "code",
   "execution_count": 1,
   "id": "ea964782",
   "metadata": {
    "_cell_guid": "b1076dfc-b9ad-4769-8c92-a6c4dae69d19",
    "_uuid": "8f2839f25d086af736a60e9eeb907d3b93b6e0e5",
    "execution": {
     "iopub.execute_input": "2022-08-26T05:10:40.005394Z",
     "iopub.status.busy": "2022-08-26T05:10:40.004677Z",
     "iopub.status.idle": "2022-08-26T05:10:40.027106Z",
     "shell.execute_reply": "2022-08-26T05:10:40.025816Z"
    },
    "papermill": {
     "duration": 0.038812,
     "end_time": "2022-08-26T05:10:40.030324",
     "exception": false,
     "start_time": "2022-08-26T05:10:39.991512",
     "status": "completed"
    },
    "tags": []
   },
   "outputs": [
    {
     "name": "stdout",
     "output_type": "stream",
     "text": [
      "/kaggle/input/data-science-job-salaries/ds_salaries.csv\n"
     ]
    }
   ],
   "source": [
    "# This Python 3 environment comes with many helpful analytics libraries installed\n",
    "# It is defined by the kaggle/python Docker image: https://github.com/kaggle/docker-python\n",
    "# For example, here's several helpful packages to load\n",
    "\n",
    "import numpy as np # linear algebra\n",
    "import pandas as pd # data processing, CSV file I/O (e.g. pd.read_csv)\n",
    "\n",
    "# Input data files are available in the read-only \"../input/\" directory\n",
    "# For example, running this (by clicking run or pressing Shift+Enter) will list all files under the input directory\n",
    "\n",
    "import os\n",
    "for dirname, _, filenames in os.walk('/kaggle/input'):\n",
    "    for filename in filenames:\n",
    "        print(os.path.join(dirname, filename))\n",
    "\n",
    "# You can write up to 20GB to the current directory (/kaggle/working/) that gets preserved as output when you create a version using \"Save & Run All\" \n",
    "# You can also write temporary files to /kaggle/temp/, but they won't be saved outside of the current session"
   ]
  },
  {
   "cell_type": "code",
   "execution_count": 2,
   "id": "6da095b5",
   "metadata": {
    "execution": {
     "iopub.execute_input": "2022-08-26T05:10:40.052115Z",
     "iopub.status.busy": "2022-08-26T05:10:40.051696Z",
     "iopub.status.idle": "2022-08-26T05:10:40.092162Z",
     "shell.execute_reply": "2022-08-26T05:10:40.090813Z"
    },
    "papermill": {
     "duration": 0.054498,
     "end_time": "2022-08-26T05:10:40.095051",
     "exception": false,
     "start_time": "2022-08-26T05:10:40.040553",
     "status": "completed"
    },
    "tags": []
   },
   "outputs": [
    {
     "data": {
      "text/html": [
       "<div>\n",
       "<style scoped>\n",
       "    .dataframe tbody tr th:only-of-type {\n",
       "        vertical-align: middle;\n",
       "    }\n",
       "\n",
       "    .dataframe tbody tr th {\n",
       "        vertical-align: top;\n",
       "    }\n",
       "\n",
       "    .dataframe thead th {\n",
       "        text-align: right;\n",
       "    }\n",
       "</style>\n",
       "<table border=\"1\" class=\"dataframe\">\n",
       "  <thead>\n",
       "    <tr style=\"text-align: right;\">\n",
       "      <th></th>\n",
       "      <th>Unnamed: 0</th>\n",
       "      <th>work_year</th>\n",
       "      <th>experience_level</th>\n",
       "      <th>employment_type</th>\n",
       "      <th>job_title</th>\n",
       "      <th>salary</th>\n",
       "      <th>salary_currency</th>\n",
       "      <th>salary_in_usd</th>\n",
       "      <th>employee_residence</th>\n",
       "      <th>remote_ratio</th>\n",
       "      <th>company_location</th>\n",
       "      <th>company_size</th>\n",
       "    </tr>\n",
       "  </thead>\n",
       "  <tbody>\n",
       "    <tr>\n",
       "      <th>0</th>\n",
       "      <td>0</td>\n",
       "      <td>2020</td>\n",
       "      <td>MI</td>\n",
       "      <td>FT</td>\n",
       "      <td>Data Scientist</td>\n",
       "      <td>70000</td>\n",
       "      <td>EUR</td>\n",
       "      <td>79833</td>\n",
       "      <td>DE</td>\n",
       "      <td>0</td>\n",
       "      <td>DE</td>\n",
       "      <td>L</td>\n",
       "    </tr>\n",
       "    <tr>\n",
       "      <th>1</th>\n",
       "      <td>1</td>\n",
       "      <td>2020</td>\n",
       "      <td>SE</td>\n",
       "      <td>FT</td>\n",
       "      <td>Machine Learning Scientist</td>\n",
       "      <td>260000</td>\n",
       "      <td>USD</td>\n",
       "      <td>260000</td>\n",
       "      <td>JP</td>\n",
       "      <td>0</td>\n",
       "      <td>JP</td>\n",
       "      <td>S</td>\n",
       "    </tr>\n",
       "    <tr>\n",
       "      <th>2</th>\n",
       "      <td>2</td>\n",
       "      <td>2020</td>\n",
       "      <td>SE</td>\n",
       "      <td>FT</td>\n",
       "      <td>Big Data Engineer</td>\n",
       "      <td>85000</td>\n",
       "      <td>GBP</td>\n",
       "      <td>109024</td>\n",
       "      <td>GB</td>\n",
       "      <td>50</td>\n",
       "      <td>GB</td>\n",
       "      <td>M</td>\n",
       "    </tr>\n",
       "    <tr>\n",
       "      <th>3</th>\n",
       "      <td>3</td>\n",
       "      <td>2020</td>\n",
       "      <td>MI</td>\n",
       "      <td>FT</td>\n",
       "      <td>Product Data Analyst</td>\n",
       "      <td>20000</td>\n",
       "      <td>USD</td>\n",
       "      <td>20000</td>\n",
       "      <td>HN</td>\n",
       "      <td>0</td>\n",
       "      <td>HN</td>\n",
       "      <td>S</td>\n",
       "    </tr>\n",
       "    <tr>\n",
       "      <th>4</th>\n",
       "      <td>4</td>\n",
       "      <td>2020</td>\n",
       "      <td>SE</td>\n",
       "      <td>FT</td>\n",
       "      <td>Machine Learning Engineer</td>\n",
       "      <td>150000</td>\n",
       "      <td>USD</td>\n",
       "      <td>150000</td>\n",
       "      <td>US</td>\n",
       "      <td>50</td>\n",
       "      <td>US</td>\n",
       "      <td>L</td>\n",
       "    </tr>\n",
       "  </tbody>\n",
       "</table>\n",
       "</div>"
      ],
      "text/plain": [
       "   Unnamed: 0  work_year experience_level employment_type  \\\n",
       "0           0       2020               MI              FT   \n",
       "1           1       2020               SE              FT   \n",
       "2           2       2020               SE              FT   \n",
       "3           3       2020               MI              FT   \n",
       "4           4       2020               SE              FT   \n",
       "\n",
       "                    job_title  salary salary_currency  salary_in_usd  \\\n",
       "0              Data Scientist   70000             EUR          79833   \n",
       "1  Machine Learning Scientist  260000             USD         260000   \n",
       "2           Big Data Engineer   85000             GBP         109024   \n",
       "3        Product Data Analyst   20000             USD          20000   \n",
       "4   Machine Learning Engineer  150000             USD         150000   \n",
       "\n",
       "  employee_residence  remote_ratio company_location company_size  \n",
       "0                 DE             0               DE            L  \n",
       "1                 JP             0               JP            S  \n",
       "2                 GB            50               GB            M  \n",
       "3                 HN             0               HN            S  \n",
       "4                 US            50               US            L  "
      ]
     },
     "execution_count": 2,
     "metadata": {},
     "output_type": "execute_result"
    }
   ],
   "source": [
    "data = pd.read_csv('/kaggle/input/data-science-job-salaries/ds_salaries.csv')\n",
    "data.head()"
   ]
  },
  {
   "cell_type": "code",
   "execution_count": 3,
   "id": "054781ab",
   "metadata": {
    "execution": {
     "iopub.execute_input": "2022-08-26T05:10:40.117595Z",
     "iopub.status.busy": "2022-08-26T05:10:40.116317Z",
     "iopub.status.idle": "2022-08-26T05:10:40.140047Z",
     "shell.execute_reply": "2022-08-26T05:10:40.138781Z"
    },
    "papermill": {
     "duration": 0.03751,
     "end_time": "2022-08-26T05:10:40.142548",
     "exception": false,
     "start_time": "2022-08-26T05:10:40.105038",
     "status": "completed"
    },
    "tags": []
   },
   "outputs": [
    {
     "data": {
      "text/html": [
       "<div>\n",
       "<style scoped>\n",
       "    .dataframe tbody tr th:only-of-type {\n",
       "        vertical-align: middle;\n",
       "    }\n",
       "\n",
       "    .dataframe tbody tr th {\n",
       "        vertical-align: top;\n",
       "    }\n",
       "\n",
       "    .dataframe thead th {\n",
       "        text-align: right;\n",
       "    }\n",
       "</style>\n",
       "<table border=\"1\" class=\"dataframe\">\n",
       "  <thead>\n",
       "    <tr style=\"text-align: right;\">\n",
       "      <th></th>\n",
       "      <th>work_year</th>\n",
       "      <th>experience_level</th>\n",
       "      <th>employment_type</th>\n",
       "      <th>job_title</th>\n",
       "      <th>salary</th>\n",
       "      <th>salary_currency</th>\n",
       "      <th>salary_in_usd</th>\n",
       "      <th>employee_residence</th>\n",
       "      <th>remote_ratio</th>\n",
       "      <th>company_location</th>\n",
       "      <th>company_size</th>\n",
       "    </tr>\n",
       "  </thead>\n",
       "  <tbody>\n",
       "    <tr>\n",
       "      <th>0</th>\n",
       "      <td>2020</td>\n",
       "      <td>MI</td>\n",
       "      <td>FT</td>\n",
       "      <td>Data Scientist</td>\n",
       "      <td>70000</td>\n",
       "      <td>EUR</td>\n",
       "      <td>79833</td>\n",
       "      <td>DE</td>\n",
       "      <td>0</td>\n",
       "      <td>DE</td>\n",
       "      <td>L</td>\n",
       "    </tr>\n",
       "    <tr>\n",
       "      <th>1</th>\n",
       "      <td>2020</td>\n",
       "      <td>SE</td>\n",
       "      <td>FT</td>\n",
       "      <td>Machine Learning Scientist</td>\n",
       "      <td>260000</td>\n",
       "      <td>USD</td>\n",
       "      <td>260000</td>\n",
       "      <td>JP</td>\n",
       "      <td>0</td>\n",
       "      <td>JP</td>\n",
       "      <td>S</td>\n",
       "    </tr>\n",
       "    <tr>\n",
       "      <th>2</th>\n",
       "      <td>2020</td>\n",
       "      <td>SE</td>\n",
       "      <td>FT</td>\n",
       "      <td>Big Data Engineer</td>\n",
       "      <td>85000</td>\n",
       "      <td>GBP</td>\n",
       "      <td>109024</td>\n",
       "      <td>GB</td>\n",
       "      <td>50</td>\n",
       "      <td>GB</td>\n",
       "      <td>M</td>\n",
       "    </tr>\n",
       "    <tr>\n",
       "      <th>3</th>\n",
       "      <td>2020</td>\n",
       "      <td>MI</td>\n",
       "      <td>FT</td>\n",
       "      <td>Product Data Analyst</td>\n",
       "      <td>20000</td>\n",
       "      <td>USD</td>\n",
       "      <td>20000</td>\n",
       "      <td>HN</td>\n",
       "      <td>0</td>\n",
       "      <td>HN</td>\n",
       "      <td>S</td>\n",
       "    </tr>\n",
       "    <tr>\n",
       "      <th>4</th>\n",
       "      <td>2020</td>\n",
       "      <td>SE</td>\n",
       "      <td>FT</td>\n",
       "      <td>Machine Learning Engineer</td>\n",
       "      <td>150000</td>\n",
       "      <td>USD</td>\n",
       "      <td>150000</td>\n",
       "      <td>US</td>\n",
       "      <td>50</td>\n",
       "      <td>US</td>\n",
       "      <td>L</td>\n",
       "    </tr>\n",
       "  </tbody>\n",
       "</table>\n",
       "</div>"
      ],
      "text/plain": [
       "   work_year experience_level employment_type                   job_title  \\\n",
       "0       2020               MI              FT              Data Scientist   \n",
       "1       2020               SE              FT  Machine Learning Scientist   \n",
       "2       2020               SE              FT           Big Data Engineer   \n",
       "3       2020               MI              FT        Product Data Analyst   \n",
       "4       2020               SE              FT   Machine Learning Engineer   \n",
       "\n",
       "   salary salary_currency  salary_in_usd employee_residence  remote_ratio  \\\n",
       "0   70000             EUR          79833                 DE             0   \n",
       "1  260000             USD         260000                 JP             0   \n",
       "2   85000             GBP         109024                 GB            50   \n",
       "3   20000             USD          20000                 HN             0   \n",
       "4  150000             USD         150000                 US            50   \n",
       "\n",
       "  company_location company_size  \n",
       "0               DE            L  \n",
       "1               JP            S  \n",
       "2               GB            M  \n",
       "3               HN            S  \n",
       "4               US            L  "
      ]
     },
     "execution_count": 3,
     "metadata": {},
     "output_type": "execute_result"
    }
   ],
   "source": [
    "data.drop('Unnamed: 0', axis = 1, inplace = True)\n",
    "data.head()"
   ]
  },
  {
   "cell_type": "code",
   "execution_count": 4,
   "id": "4b414fe8",
   "metadata": {
    "execution": {
     "iopub.execute_input": "2022-08-26T05:10:40.165230Z",
     "iopub.status.busy": "2022-08-26T05:10:40.164781Z",
     "iopub.status.idle": "2022-08-26T05:10:40.186525Z",
     "shell.execute_reply": "2022-08-26T05:10:40.185563Z"
    },
    "papermill": {
     "duration": 0.036403,
     "end_time": "2022-08-26T05:10:40.189199",
     "exception": false,
     "start_time": "2022-08-26T05:10:40.152796",
     "status": "completed"
    },
    "tags": []
   },
   "outputs": [
    {
     "name": "stdout",
     "output_type": "stream",
     "text": [
      "<class 'pandas.core.frame.DataFrame'>\n",
      "RangeIndex: 607 entries, 0 to 606\n",
      "Data columns (total 11 columns):\n",
      " #   Column              Non-Null Count  Dtype \n",
      "---  ------              --------------  ----- \n",
      " 0   work_year           607 non-null    int64 \n",
      " 1   experience_level    607 non-null    object\n",
      " 2   employment_type     607 non-null    object\n",
      " 3   job_title           607 non-null    object\n",
      " 4   salary              607 non-null    int64 \n",
      " 5   salary_currency     607 non-null    object\n",
      " 6   salary_in_usd       607 non-null    int64 \n",
      " 7   employee_residence  607 non-null    object\n",
      " 8   remote_ratio        607 non-null    int64 \n",
      " 9   company_location    607 non-null    object\n",
      " 10  company_size        607 non-null    object\n",
      "dtypes: int64(4), object(7)\n",
      "memory usage: 52.3+ KB\n"
     ]
    }
   ],
   "source": [
    "data.info()"
   ]
  },
  {
   "cell_type": "code",
   "execution_count": 5,
   "id": "52d164c4",
   "metadata": {
    "execution": {
     "iopub.execute_input": "2022-08-26T05:10:40.213100Z",
     "iopub.status.busy": "2022-08-26T05:10:40.212622Z",
     "iopub.status.idle": "2022-08-26T05:10:40.221233Z",
     "shell.execute_reply": "2022-08-26T05:10:40.219595Z"
    },
    "papermill": {
     "duration": 0.022868,
     "end_time": "2022-08-26T05:10:40.223786",
     "exception": false,
     "start_time": "2022-08-26T05:10:40.200918",
     "status": "completed"
    },
    "tags": []
   },
   "outputs": [
    {
     "name": "stdout",
     "output_type": "stream",
     "text": [
      "column name - unique values \n",
      "work_year = 3\n",
      "experience_level = 4\n",
      "employment_type = 4\n",
      "job_title = 50\n",
      "salary = 272\n",
      "salary_currency = 17\n",
      "salary_in_usd = 369\n",
      "employee_residence = 57\n",
      "remote_ratio = 3\n",
      "company_location = 50\n",
      "company_size = 3\n"
     ]
    }
   ],
   "source": [
    "print('column name - unique values ')\n",
    "for col in data.columns:\n",
    "    print(f'{col} = {len(data[col].unique())}')"
   ]
  },
  {
   "cell_type": "code",
   "execution_count": 6,
   "id": "9f1a5e82",
   "metadata": {
    "execution": {
     "iopub.execute_input": "2022-08-26T05:10:40.247434Z",
     "iopub.status.busy": "2022-08-26T05:10:40.246115Z",
     "iopub.status.idle": "2022-08-26T05:10:40.273748Z",
     "shell.execute_reply": "2022-08-26T05:10:40.272396Z"
    },
    "papermill": {
     "duration": 0.042061,
     "end_time": "2022-08-26T05:10:40.276362",
     "exception": false,
     "start_time": "2022-08-26T05:10:40.234301",
     "status": "completed"
    },
    "tags": []
   },
   "outputs": [
    {
     "data": {
      "text/html": [
       "<div>\n",
       "<style scoped>\n",
       "    .dataframe tbody tr th:only-of-type {\n",
       "        vertical-align: middle;\n",
       "    }\n",
       "\n",
       "    .dataframe tbody tr th {\n",
       "        vertical-align: top;\n",
       "    }\n",
       "\n",
       "    .dataframe thead th {\n",
       "        text-align: right;\n",
       "    }\n",
       "</style>\n",
       "<table border=\"1\" class=\"dataframe\">\n",
       "  <thead>\n",
       "    <tr style=\"text-align: right;\">\n",
       "      <th></th>\n",
       "      <th>work_year</th>\n",
       "      <th>salary</th>\n",
       "      <th>salary_in_usd</th>\n",
       "      <th>remote_ratio</th>\n",
       "    </tr>\n",
       "  </thead>\n",
       "  <tbody>\n",
       "    <tr>\n",
       "      <th>count</th>\n",
       "      <td>607.000000</td>\n",
       "      <td>6.070000e+02</td>\n",
       "      <td>607.000000</td>\n",
       "      <td>607.00000</td>\n",
       "    </tr>\n",
       "    <tr>\n",
       "      <th>mean</th>\n",
       "      <td>2021.405272</td>\n",
       "      <td>3.240001e+05</td>\n",
       "      <td>112297.869852</td>\n",
       "      <td>70.92257</td>\n",
       "    </tr>\n",
       "    <tr>\n",
       "      <th>std</th>\n",
       "      <td>0.692133</td>\n",
       "      <td>1.544357e+06</td>\n",
       "      <td>70957.259411</td>\n",
       "      <td>40.70913</td>\n",
       "    </tr>\n",
       "    <tr>\n",
       "      <th>min</th>\n",
       "      <td>2020.000000</td>\n",
       "      <td>4.000000e+03</td>\n",
       "      <td>2859.000000</td>\n",
       "      <td>0.00000</td>\n",
       "    </tr>\n",
       "    <tr>\n",
       "      <th>25%</th>\n",
       "      <td>2021.000000</td>\n",
       "      <td>7.000000e+04</td>\n",
       "      <td>62726.000000</td>\n",
       "      <td>50.00000</td>\n",
       "    </tr>\n",
       "    <tr>\n",
       "      <th>50%</th>\n",
       "      <td>2022.000000</td>\n",
       "      <td>1.150000e+05</td>\n",
       "      <td>101570.000000</td>\n",
       "      <td>100.00000</td>\n",
       "    </tr>\n",
       "    <tr>\n",
       "      <th>75%</th>\n",
       "      <td>2022.000000</td>\n",
       "      <td>1.650000e+05</td>\n",
       "      <td>150000.000000</td>\n",
       "      <td>100.00000</td>\n",
       "    </tr>\n",
       "    <tr>\n",
       "      <th>max</th>\n",
       "      <td>2022.000000</td>\n",
       "      <td>3.040000e+07</td>\n",
       "      <td>600000.000000</td>\n",
       "      <td>100.00000</td>\n",
       "    </tr>\n",
       "  </tbody>\n",
       "</table>\n",
       "</div>"
      ],
      "text/plain": [
       "         work_year        salary  salary_in_usd  remote_ratio\n",
       "count   607.000000  6.070000e+02     607.000000     607.00000\n",
       "mean   2021.405272  3.240001e+05  112297.869852      70.92257\n",
       "std       0.692133  1.544357e+06   70957.259411      40.70913\n",
       "min    2020.000000  4.000000e+03    2859.000000       0.00000\n",
       "25%    2021.000000  7.000000e+04   62726.000000      50.00000\n",
       "50%    2022.000000  1.150000e+05  101570.000000     100.00000\n",
       "75%    2022.000000  1.650000e+05  150000.000000     100.00000\n",
       "max    2022.000000  3.040000e+07  600000.000000     100.00000"
      ]
     },
     "execution_count": 6,
     "metadata": {},
     "output_type": "execute_result"
    }
   ],
   "source": [
    "data.describe()"
   ]
  },
  {
   "cell_type": "code",
   "execution_count": 7,
   "id": "b047ee7d",
   "metadata": {
    "execution": {
     "iopub.execute_input": "2022-08-26T05:10:40.301530Z",
     "iopub.status.busy": "2022-08-26T05:10:40.300633Z",
     "iopub.status.idle": "2022-08-26T05:10:41.417338Z",
     "shell.execute_reply": "2022-08-26T05:10:41.416196Z"
    },
    "papermill": {
     "duration": 1.132444,
     "end_time": "2022-08-26T05:10:41.420147",
     "exception": false,
     "start_time": "2022-08-26T05:10:40.287703",
     "status": "completed"
    },
    "tags": []
   },
   "outputs": [],
   "source": [
    "import matplotlib.pyplot as plt\n",
    "import seaborn as sns\n",
    "%matplotlib inline"
   ]
  },
  {
   "cell_type": "code",
   "execution_count": 8,
   "id": "4f1dde1d",
   "metadata": {
    "execution": {
     "iopub.execute_input": "2022-08-26T05:10:41.444089Z",
     "iopub.status.busy": "2022-08-26T05:10:41.442973Z",
     "iopub.status.idle": "2022-08-26T05:10:42.187116Z",
     "shell.execute_reply": "2022-08-26T05:10:42.185932Z"
    },
    "papermill": {
     "duration": 0.759038,
     "end_time": "2022-08-26T05:10:42.189769",
     "exception": false,
     "start_time": "2022-08-26T05:10:41.430731",
     "status": "completed"
    },
    "tags": []
   },
   "outputs": [
    {
     "data": {
      "text/plain": [
       "array([[<AxesSubplot:title={'center':'work_year'}>,\n",
       "        <AxesSubplot:title={'center':'salary'}>],\n",
       "       [<AxesSubplot:title={'center':'salary_in_usd'}>,\n",
       "        <AxesSubplot:title={'center':'remote_ratio'}>]], dtype=object)"
      ]
     },
     "execution_count": 8,
     "metadata": {},
     "output_type": "execute_result"
    },
    {
     "data": {
      "image/png": "[encoded data removed]",
      "text/plain": [
       "<Figure size 1080x720 with 4 Axes>"
      ]
     },
     "metadata": {
      "needs_background": "light"
     },
     "output_type": "display_data"
    }
   ],
   "source": [
    "data.hist(bins = 10, figsize = (15,10))"
   ]
  },
  {
   "cell_type": "code",
   "execution_count": 9,
   "id": "3cf099e1",
   "metadata": {
    "execution": {
     "iopub.execute_input": "2022-08-26T05:10:42.215506Z",
     "iopub.status.busy": "2022-08-26T05:10:42.214477Z",
     "iopub.status.idle": "2022-08-26T05:10:42.239061Z",
     "shell.execute_reply": "2022-08-26T05:10:42.237903Z"
    },
    "papermill": {
     "duration": 0.040388,
     "end_time": "2022-08-26T05:10:42.242180",
     "exception": false,
     "start_time": "2022-08-26T05:10:42.201792",
     "status": "completed"
    },
    "tags": []
   },
   "outputs": [
    {
     "data": {
      "text/html": [
       "<div>\n",
       "<style scoped>\n",
       "    .dataframe tbody tr th:only-of-type {\n",
       "        vertical-align: middle;\n",
       "    }\n",
       "\n",
       "    .dataframe tbody tr th {\n",
       "        vertical-align: top;\n",
       "    }\n",
       "\n",
       "    .dataframe thead th {\n",
       "        text-align: right;\n",
       "    }\n",
       "</style>\n",
       "<table border=\"1\" class=\"dataframe\">\n",
       "  <thead>\n",
       "    <tr style=\"text-align: right;\">\n",
       "      <th></th>\n",
       "      <th>work_year</th>\n",
       "      <th>experience_level</th>\n",
       "      <th>employment_type</th>\n",
       "      <th>job_title</th>\n",
       "      <th>salary</th>\n",
       "      <th>salary_currency</th>\n",
       "      <th>salary_in_usd</th>\n",
       "      <th>employee_residence</th>\n",
       "      <th>remote_ratio</th>\n",
       "      <th>company_location</th>\n",
       "      <th>company_size</th>\n",
       "    </tr>\n",
       "  </thead>\n",
       "  <tbody>\n",
       "    <tr>\n",
       "      <th>0</th>\n",
       "      <td>2020</td>\n",
       "      <td>MI</td>\n",
       "      <td>FT</td>\n",
       "      <td>Data Scientist</td>\n",
       "      <td>70000</td>\n",
       "      <td>EUR</td>\n",
       "      <td>79833</td>\n",
       "      <td>DE</td>\n",
       "      <td>0</td>\n",
       "      <td>DE</td>\n",
       "      <td>L</td>\n",
       "    </tr>\n",
       "    <tr>\n",
       "      <th>1</th>\n",
       "      <td>2020</td>\n",
       "      <td>SE</td>\n",
       "      <td>FT</td>\n",
       "      <td>Machine Learning Scientist</td>\n",
       "      <td>260000</td>\n",
       "      <td>USD</td>\n",
       "      <td>260000</td>\n",
       "      <td>JP</td>\n",
       "      <td>0</td>\n",
       "      <td>JP</td>\n",
       "      <td>S</td>\n",
       "    </tr>\n",
       "    <tr>\n",
       "      <th>2</th>\n",
       "      <td>2020</td>\n",
       "      <td>SE</td>\n",
       "      <td>FT</td>\n",
       "      <td>Big Data Engineer</td>\n",
       "      <td>85000</td>\n",
       "      <td>GBP</td>\n",
       "      <td>109024</td>\n",
       "      <td>GB</td>\n",
       "      <td>50</td>\n",
       "      <td>GB</td>\n",
       "      <td>M</td>\n",
       "    </tr>\n",
       "    <tr>\n",
       "      <th>3</th>\n",
       "      <td>2020</td>\n",
       "      <td>MI</td>\n",
       "      <td>FT</td>\n",
       "      <td>Product Data Analyst</td>\n",
       "      <td>20000</td>\n",
       "      <td>USD</td>\n",
       "      <td>20000</td>\n",
       "      <td>HN</td>\n",
       "      <td>0</td>\n",
       "      <td>HN</td>\n",
       "      <td>S</td>\n",
       "    </tr>\n",
       "    <tr>\n",
       "      <th>4</th>\n",
       "      <td>2020</td>\n",
       "      <td>SE</td>\n",
       "      <td>FT</td>\n",
       "      <td>Machine Learning Engineer</td>\n",
       "      <td>150000</td>\n",
       "      <td>USD</td>\n",
       "      <td>150000</td>\n",
       "      <td>US</td>\n",
       "      <td>50</td>\n",
       "      <td>US</td>\n",
       "      <td>L</td>\n",
       "    </tr>\n",
       "    <tr>\n",
       "      <th>...</th>\n",
       "      <td>...</td>\n",
       "      <td>...</td>\n",
       "      <td>...</td>\n",
       "      <td>...</td>\n",
       "      <td>...</td>\n",
       "      <td>...</td>\n",
       "      <td>...</td>\n",
       "      <td>...</td>\n",
       "      <td>...</td>\n",
       "      <td>...</td>\n",
       "      <td>...</td>\n",
       "    </tr>\n",
       "    <tr>\n",
       "      <th>602</th>\n",
       "      <td>2022</td>\n",
       "      <td>SE</td>\n",
       "      <td>FT</td>\n",
       "      <td>Data Engineer</td>\n",
       "      <td>154000</td>\n",
       "      <td>USD</td>\n",
       "      <td>154000</td>\n",
       "      <td>US</td>\n",
       "      <td>100</td>\n",
       "      <td>US</td>\n",
       "      <td>M</td>\n",
       "    </tr>\n",
       "    <tr>\n",
       "      <th>603</th>\n",
       "      <td>2022</td>\n",
       "      <td>SE</td>\n",
       "      <td>FT</td>\n",
       "      <td>Data Engineer</td>\n",
       "      <td>126000</td>\n",
       "      <td>USD</td>\n",
       "      <td>126000</td>\n",
       "      <td>US</td>\n",
       "      <td>100</td>\n",
       "      <td>US</td>\n",
       "      <td>M</td>\n",
       "    </tr>\n",
       "    <tr>\n",
       "      <th>604</th>\n",
       "      <td>2022</td>\n",
       "      <td>SE</td>\n",
       "      <td>FT</td>\n",
       "      <td>Data Analyst</td>\n",
       "      <td>129000</td>\n",
       "      <td>USD</td>\n",
       "      <td>129000</td>\n",
       "      <td>US</td>\n",
       "      <td>0</td>\n",
       "      <td>US</td>\n",
       "      <td>M</td>\n",
       "    </tr>\n",
       "    <tr>\n",
       "      <th>605</th>\n",
       "      <td>2022</td>\n",
       "      <td>SE</td>\n",
       "      <td>FT</td>\n",
       "      <td>Data Analyst</td>\n",
       "      <td>150000</td>\n",
       "      <td>USD</td>\n",
       "      <td>150000</td>\n",
       "      <td>US</td>\n",
       "      <td>100</td>\n",
       "      <td>US</td>\n",
       "      <td>M</td>\n",
       "    </tr>\n",
       "    <tr>\n",
       "      <th>606</th>\n",
       "      <td>2022</td>\n",
       "      <td>MI</td>\n",
       "      <td>FT</td>\n",
       "      <td>AI Scientist</td>\n",
       "      <td>200000</td>\n",
       "      <td>USD</td>\n",
       "      <td>200000</td>\n",
       "      <td>IN</td>\n",
       "      <td>100</td>\n",
       "      <td>US</td>\n",
       "      <td>L</td>\n",
       "    </tr>\n",
       "  </tbody>\n",
       "</table>\n",
       "<p>607 rows × 11 columns</p>\n",
       "</div>"
      ],
      "text/plain": [
       "     work_year experience_level employment_type                   job_title  \\\n",
       "0         2020               MI              FT              Data Scientist   \n",
       "1         2020               SE              FT  Machine Learning Scientist   \n",
       "2         2020               SE              FT           Big Data Engineer   \n",
       "3         2020               MI              FT        Product Data Analyst   \n",
       "4         2020               SE              FT   Machine Learning Engineer   \n",
       "..         ...              ...             ...                         ...   \n",
       "602       2022               SE              FT               Data Engineer   \n",
       "603       2022               SE              FT               Data Engineer   \n",
       "604       2022               SE              FT                Data Analyst   \n",
       "605       2022               SE              FT                Data Analyst   \n",
       "606       2022               MI              FT                AI Scientist   \n",
       "\n",
       "     salary salary_currency  salary_in_usd employee_residence  remote_ratio  \\\n",
       "0     70000             EUR          79833                 DE             0   \n",
       "1    260000             USD         260000                 JP             0   \n",
       "2     85000             GBP         109024                 GB            50   \n",
       "3     20000             USD          20000                 HN             0   \n",
       "4    150000             USD         150000                 US            50   \n",
       "..      ...             ...            ...                ...           ...   \n",
       "602  154000             USD         154000                 US           100   \n",
       "603  126000             USD         126000                 US           100   \n",
       "604  129000             USD         129000                 US             0   \n",
       "605  150000             USD         150000                 US           100   \n",
       "606  200000             USD         200000                 IN           100   \n",
       "\n",
       "    company_location company_size  \n",
       "0                 DE            L  \n",
       "1                 JP            S  \n",
       "2                 GB            M  \n",
       "3                 HN            S  \n",
       "4                 US            L  \n",
       "..               ...          ...  \n",
       "602               US            M  \n",
       "603               US            M  \n",
       "604               US            M  \n",
       "605               US            M  \n",
       "606               US            L  \n",
       "\n",
       "[607 rows x 11 columns]"
      ]
     },
     "execution_count": 9,
     "metadata": {},
     "output_type": "execute_result"
    }
   ],
   "source": [
    "data"
   ]
  },
  {
   "cell_type": "code",
   "execution_count": 10,
   "id": "c845a453",
   "metadata": {
    "execution": {
     "iopub.execute_input": "2022-08-26T05:10:42.268485Z",
     "iopub.status.busy": "2022-08-26T05:10:42.267470Z",
     "iopub.status.idle": "2022-08-26T05:10:42.467023Z",
     "shell.execute_reply": "2022-08-26T05:10:42.465796Z"
    },
    "papermill": {
     "duration": 0.215802,
     "end_time": "2022-08-26T05:10:42.469778",
     "exception": false,
     "start_time": "2022-08-26T05:10:42.253976",
     "status": "completed"
    },
    "tags": []
   },
   "outputs": [
    {
     "data": {
      "text/plain": [
       "<AxesSubplot:xlabel='experience_level', ylabel='Count'>"
      ]
     },
     "execution_count": 10,
     "metadata": {},
     "output_type": "execute_result"
    },
    {
     "data": {
      "image/png": "[encoded data removed]",
      "text/plain": [
       "<Figure size 432x288 with 1 Axes>"
      ]
     },
     "metadata": {
      "needs_background": "light"
     },
     "output_type": "display_data"
    }
   ],
   "source": [
    "sns.histplot(data.experience_level)"
   ]
  },
  {
   "cell_type": "code",
   "execution_count": 11,
   "id": "d209c1f4",
   "metadata": {
    "execution": {
     "iopub.execute_input": "2022-08-26T05:10:42.495542Z",
     "iopub.status.busy": "2022-08-26T05:10:42.495105Z",
     "iopub.status.idle": "2022-08-26T05:10:50.004148Z",
     "shell.execute_reply": "2022-08-26T05:10:50.002810Z"
    },
    "papermill": {
     "duration": 7.525095,
     "end_time": "2022-08-26T05:10:50.006753",
     "exception": false,
     "start_time": "2022-08-26T05:10:42.481658",
     "status": "completed"
    },
    "tags": []
   },
   "outputs": [
    {
     "data": {
      "image/png": "[encoded data removed]",
      "text/plain": [
       "<Figure size 720x432 with 1 Axes>"
      ]
     },
     "metadata": {
      "needs_background": "light"
     },
     "output_type": "display_data"
    },
    {
     "data": {
      "image/png": "[encoded data removed]",
      "text/plain": [
       "<Figure size 720x432 with 1 Axes>"
      ]
     },
     "metadata": {
      "needs_background": "light"
     },
     "output_type": "display_data"
    },
    {
     "data": {
      "image/png": "[encoded data removed]",
      "text/plain": [
       "<Figure size 720x432 with 1 Axes>"
      ]
     },
     "metadata": {
      "needs_background": "light"
     },
     "output_type": "display_data"
    },
    {
     "data": {
      "image/png": "[encoded data removed]",
      "text/plain": [
       "<Figure size 720x432 with 1 Axes>"
      ]
     },
     "metadata": {
      "needs_background": "light"
     },
     "output_type": "display_data"
    },
    {
     "data": {
      "image/png": "[encoded data removed]",
      "text/plain": [
       "<Figure size 720x432 with 1 Axes>"
      ]
     },
     "metadata": {
      "needs_background": "light"
     },
     "output_type": "display_data"
    },
    {
     "data": {
      "image/png": "[encoded data removed]",
      "text/plain": [
       "<Figure size 720x432 with 1 Axes>"
      ]
     },
     "metadata": {
      "needs_background": "light"
     },
     "output_type": "display_data"
    },
    {
     "data": {
      "image/png": "[encoded data removed]",
      "text/plain": [
       "<Figure size 720x432 with 1 Axes>"
      ]
     },
     "metadata": {
      "needs_background": "light"
     },
     "output_type": "display_data"
    },
    {
     "data": {
      "image/png": "[encoded data removed]",
      "text/plain": [
       "<Figure size 720x432 with 1 Axes>"
      ]
     },
     "metadata": {
      "needs_background": "light"
     },
     "output_type": "display_data"
    },
    {
     "data": {
      "image/png": "[encoded data removed]",
      "text/plain": [
       "<Figure size 720x432 with 1 Axes>"
      ]
     },
     "metadata": {
      "needs_background": "light"
     },
     "output_type": "display_data"
    },
    {
     "data": {
      "image/png": "[encoded data removed]",
      "text/plain": [
       "<Figure size 720x432 with 1 Axes>"
      ]
     },
     "metadata": {
      "needs_background": "light"
     },
     "output_type": "display_data"
    },
    {
     "data": {
      "image/png": "[encoded data removed]",
      "text/plain": [
       "<Figure size 720x432 with 1 Axes>"
      ]
     },
     "metadata": {
      "needs_background": "light"
     },
     "output_type": "display_data"
    }
   ],
   "source": [
    "for col in data.columns:\n",
    "    plt.figure(figsize = (10,6))\n",
    "    sns.histplot(data[col])"
   ]
  },
  {
   "cell_type": "code",
   "execution_count": 12,
   "id": "08a792d3",
   "metadata": {
    "execution": {
     "iopub.execute_input": "2022-08-26T05:10:50.039233Z",
     "iopub.status.busy": "2022-08-26T05:10:50.038424Z",
     "iopub.status.idle": "2022-08-26T05:10:50.045841Z",
     "shell.execute_reply": "2022-08-26T05:10:50.044952Z"
    },
    "papermill": {
     "duration": 0.025801,
     "end_time": "2022-08-26T05:10:50.048156",
     "exception": false,
     "start_time": "2022-08-26T05:10:50.022355",
     "status": "completed"
    },
    "tags": []
   },
   "outputs": [],
   "source": [
    "max_categories = [col for col in data.columns if len(data[col].unique()) > 15 and col != 'salary']"
   ]
  },
  {
   "cell_type": "code",
   "execution_count": 13,
   "id": "e44487b9",
   "metadata": {
    "execution": {
     "iopub.execute_input": "2022-08-26T05:10:50.079928Z",
     "iopub.status.busy": "2022-08-26T05:10:50.079446Z",
     "iopub.status.idle": "2022-08-26T05:10:50.086631Z",
     "shell.execute_reply": "2022-08-26T05:10:50.085408Z"
    },
    "papermill": {
     "duration": 0.026053,
     "end_time": "2022-08-26T05:10:50.089079",
     "exception": false,
     "start_time": "2022-08-26T05:10:50.063026",
     "status": "completed"
    },
    "tags": []
   },
   "outputs": [
    {
     "data": {
      "text/plain": [
       "['job_title',\n",
       " 'salary_currency',\n",
       " 'salary_in_usd',\n",
       " 'employee_residence',\n",
       " 'company_location']"
      ]
     },
     "execution_count": 13,
     "metadata": {},
     "output_type": "execute_result"
    }
   ],
   "source": [
    "max_categories"
   ]
  },
  {
   "cell_type": "code",
   "execution_count": 14,
   "id": "4733a87a",
   "metadata": {
    "execution": {
     "iopub.execute_input": "2022-08-26T05:10:50.120302Z",
     "iopub.status.busy": "2022-08-26T05:10:50.119874Z",
     "iopub.status.idle": "2022-08-26T05:10:50.354370Z",
     "shell.execute_reply": "2022-08-26T05:10:50.353146Z"
    },
    "papermill": {
     "duration": 0.25373,
     "end_time": "2022-08-26T05:10:50.357405",
     "exception": false,
     "start_time": "2022-08-26T05:10:50.103675",
     "status": "completed"
    },
    "tags": []
   },
   "outputs": [
    {
     "data": {
      "text/plain": [
       "<AxesSubplot:xlabel='employment_type', ylabel='salary'>"
      ]
     },
     "execution_count": 14,
     "metadata": {},
     "output_type": "execute_result"
    },
    {
     "data": {
      "image/png": "[encoded data removed]",
      "text/plain": [
       "<Figure size 432x288 with 1 Axes>"
      ]
     },
     "metadata": {
      "needs_background": "light"
     },
     "output_type": "display_data"
    }
   ],
   "source": [
    "sns.scatterplot(x = 'employment_type', y = 'salary', data = data)"
   ]
  },
  {
   "cell_type": "code",
   "execution_count": 15,
   "id": "7484309a",
   "metadata": {
    "execution": {
     "iopub.execute_input": "2022-08-26T05:10:50.395467Z",
     "iopub.status.busy": "2022-08-26T05:10:50.394432Z",
     "iopub.status.idle": "2022-08-26T05:10:50.406194Z",
     "shell.execute_reply": "2022-08-26T05:10:50.405176Z"
    },
    "papermill": {
     "duration": 0.030782,
     "end_time": "2022-08-26T05:10:50.408469",
     "exception": false,
     "start_time": "2022-08-26T05:10:50.377687",
     "status": "completed"
    },
    "tags": []
   },
   "outputs": [
    {
     "data": {
      "text/plain": [
       "salary           1.000000\n",
       "remote_ratio    -0.014608\n",
       "salary_in_usd   -0.083906\n",
       "work_year       -0.087577\n",
       "Name: salary, dtype: float64"
      ]
     },
     "execution_count": 15,
     "metadata": {},
     "output_type": "execute_result"
    }
   ],
   "source": [
    "corr_matrix = data.corr()\n",
    "corr_matrix['salary'].sort_values(ascending = False)"
   ]
  },
  {
   "cell_type": "code",
   "execution_count": 16,
   "id": "a330ecac",
   "metadata": {
    "execution": {
     "iopub.execute_input": "2022-08-26T05:10:50.440959Z",
     "iopub.status.busy": "2022-08-26T05:10:50.440204Z",
     "iopub.status.idle": "2022-08-26T05:10:50.453838Z",
     "shell.execute_reply": "2022-08-26T05:10:50.452632Z"
    },
    "papermill": {
     "duration": 0.032579,
     "end_time": "2022-08-26T05:10:50.456380",
     "exception": false,
     "start_time": "2022-08-26T05:10:50.423801",
     "status": "completed"
    },
    "tags": []
   },
   "outputs": [
    {
     "data": {
      "text/plain": [
       "job_title\n",
       "Data Scientist                              143\n",
       "Data Engineer                               132\n",
       "Data Analyst                                 97\n",
       "Machine Learning Engineer                    41\n",
       "Research Scientist                           16\n",
       "Data Science Manager                         12\n",
       "Data Architect                               11\n",
       "Big Data Engineer                             8\n",
       "Machine Learning Scientist                    8\n",
       "Director of Data Science                      7\n",
       "AI Scientist                                  7\n",
       "Principal Data Scientist                      7\n",
       "Data Science Consultant                       7\n",
       "Data Analytics Manager                        7\n",
       "Computer Vision Engineer                      6\n",
       "BI Data Analyst                               6\n",
       "ML Engineer                                   6\n",
       "Lead Data Engineer                            6\n",
       "Data Engineering Manager                      5\n",
       "Business Data Analyst                         5\n",
       "Applied Data Scientist                        5\n",
       "Head of Data                                  5\n",
       "Head of Data Science                          4\n",
       "Data Analytics Engineer                       4\n",
       "Applied Machine Learning Scientist            4\n",
       "Analytics Engineer                            4\n",
       "Machine Learning Developer                    3\n",
       "Machine Learning Infrastructure Engineer      3\n",
       "Lead Data Scientist                           3\n",
       "Lead Data Analyst                             3\n",
       "Data Science Engineer                         3\n",
       "Principal Data Engineer                       3\n",
       "Computer Vision Software Engineer             3\n",
       "Principal Data Analyst                        2\n",
       "Financial Data Analyst                        2\n",
       "ETL Developer                                 2\n",
       "Director of Data Engineering                  2\n",
       "Product Data Analyst                          2\n",
       "Cloud Data Engineer                           2\n",
       "NLP Engineer                                  1\n",
       "Marketing Data Analyst                        1\n",
       "3D Computer Vision Researcher                 1\n",
       "Machine Learning Manager                      1\n",
       "Lead Machine Learning Engineer                1\n",
       "Head of Machine Learning                      1\n",
       "Finance Data Analyst                          1\n",
       "Data Specialist                               1\n",
       "Data Analytics Lead                           1\n",
       "Big Data Architect                            1\n",
       "Staff Data Scientist                          1\n",
       "Name: job_title, dtype: int64"
      ]
     },
     "execution_count": 16,
     "metadata": {},
     "output_type": "execute_result"
    }
   ],
   "source": [
    "job_title_cat = data.groupby('job_title')['job_title'].agg('count').sort_values(ascending = False)\n",
    "job_title_cat_other = job_title_cat[job_title_cat <= 3]\n",
    "data.job_title = data.job_title.apply(lambda x: \n",
    "                                     'other' if x in job_title_cat_other else x)\n",
    "\n",
    "job_title_cat"
   ]
  },
  {
   "cell_type": "code",
   "execution_count": 17,
   "id": "b5362764",
   "metadata": {
    "execution": {
     "iopub.execute_input": "2022-08-26T05:10:50.489405Z",
     "iopub.status.busy": "2022-08-26T05:10:50.488332Z",
     "iopub.status.idle": "2022-08-26T05:10:50.498673Z",
     "shell.execute_reply": "2022-08-26T05:10:50.497775Z"
    },
    "papermill": {
     "duration": 0.029274,
     "end_time": "2022-08-26T05:10:50.501186",
     "exception": false,
     "start_time": "2022-08-26T05:10:50.471912",
     "status": "completed"
    },
    "tags": []
   },
   "outputs": [],
   "source": [
    "emp_res_cat = data.groupby('employee_residence')['employee_residence'].agg('count').sort_values(ascending = False)\n",
    "emp_res_cat_other = emp_res_cat[emp_res_cat <= 2]\n",
    "data.employee_residence = data.employee_residence.apply(lambda x: 'other' if x in emp_res_cat_other else x)\n"
   ]
  },
  {
   "cell_type": "code",
   "execution_count": 18,
   "id": "9876ed46",
   "metadata": {
    "execution": {
     "iopub.execute_input": "2022-08-26T05:10:50.533861Z",
     "iopub.status.busy": "2022-08-26T05:10:50.532653Z",
     "iopub.status.idle": "2022-08-26T05:10:50.542633Z",
     "shell.execute_reply": "2022-08-26T05:10:50.541651Z"
    },
    "papermill": {
     "duration": 0.028834,
     "end_time": "2022-08-26T05:10:50.545110",
     "exception": false,
     "start_time": "2022-08-26T05:10:50.516276",
     "status": "completed"
    },
    "tags": []
   },
   "outputs": [],
   "source": [
    "com_loc_cat = data.groupby('company_location')['company_location'].agg('count').sort_values(ascending=False)\n",
    "com_loc_cat_other = com_loc_cat[com_loc_cat<=2]\n",
    "data.company_location = data.company_location.apply(lambda x: 'other' if x in com_loc_cat_other else x )"
   ]
  },
  {
   "cell_type": "code",
   "execution_count": 19,
   "id": "89a857d4",
   "metadata": {
    "execution": {
     "iopub.execute_input": "2022-08-26T05:10:50.577938Z",
     "iopub.status.busy": "2022-08-26T05:10:50.576993Z",
     "iopub.status.idle": "2022-08-26T05:10:50.587744Z",
     "shell.execute_reply": "2022-08-26T05:10:50.586802Z"
    },
    "papermill": {
     "duration": 0.029563,
     "end_time": "2022-08-26T05:10:50.589951",
     "exception": false,
     "start_time": "2022-08-26T05:10:50.560388",
     "status": "completed"
    },
    "tags": []
   },
   "outputs": [
    {
     "data": {
      "text/plain": [
       "['salary', 'salary_in_usd']"
      ]
     },
     "execution_count": 19,
     "metadata": {},
     "output_type": "execute_result"
    }
   ],
   "source": [
    "[col for col in data.columns if len(data[col].unique()) > 30]"
   ]
  },
  {
   "cell_type": "code",
   "execution_count": 20,
   "id": "a85b905c",
   "metadata": {
    "execution": {
     "iopub.execute_input": "2022-08-26T05:10:50.622632Z",
     "iopub.status.busy": "2022-08-26T05:10:50.621943Z",
     "iopub.status.idle": "2022-08-26T05:10:50.628997Z",
     "shell.execute_reply": "2022-08-26T05:10:50.628042Z"
    },
    "papermill": {
     "duration": 0.025881,
     "end_time": "2022-08-26T05:10:50.631126",
     "exception": false,
     "start_time": "2022-08-26T05:10:50.605245",
     "status": "completed"
    },
    "tags": []
   },
   "outputs": [
    {
     "data": {
      "text/plain": [
       "(607, 11)"
      ]
     },
     "execution_count": 20,
     "metadata": {},
     "output_type": "execute_result"
    }
   ],
   "source": [
    "data.shape"
   ]
  },
  {
   "cell_type": "code",
   "execution_count": 21,
   "id": "c9d830e5",
   "metadata": {
    "execution": {
     "iopub.execute_input": "2022-08-26T05:10:50.663846Z",
     "iopub.status.busy": "2022-08-26T05:10:50.663377Z",
     "iopub.status.idle": "2022-08-26T05:10:50.850676Z",
     "shell.execute_reply": "2022-08-26T05:10:50.849415Z"
    },
    "papermill": {
     "duration": 0.207184,
     "end_time": "2022-08-26T05:10:50.853605",
     "exception": false,
     "start_time": "2022-08-26T05:10:50.646421",
     "status": "completed"
    },
    "tags": []
   },
   "outputs": [],
   "source": [
    "from sklearn.model_selection import train_test_split\n",
    "\n",
    "train_data, test_data = train_test_split(data,test_size=0.2,random_state=38)"
   ]
  },
  {
   "cell_type": "code",
   "execution_count": 22,
   "id": "a240a8e0",
   "metadata": {
    "execution": {
     "iopub.execute_input": "2022-08-26T05:10:50.886967Z",
     "iopub.status.busy": "2022-08-26T05:10:50.886214Z",
     "iopub.status.idle": "2022-08-26T05:10:50.892829Z",
     "shell.execute_reply": "2022-08-26T05:10:50.891918Z"
    },
    "papermill": {
     "duration": 0.026023,
     "end_time": "2022-08-26T05:10:50.895195",
     "exception": false,
     "start_time": "2022-08-26T05:10:50.869172",
     "status": "completed"
    },
    "tags": []
   },
   "outputs": [],
   "source": [
    "train = data.drop('salary',axis=1)\n",
    "train_labels = data['salary'].copy()"
   ]
  },
  {
   "cell_type": "code",
   "execution_count": 23,
   "id": "e514fefa",
   "metadata": {
    "execution": {
     "iopub.execute_input": "2022-08-26T05:10:50.928403Z",
     "iopub.status.busy": "2022-08-26T05:10:50.927436Z",
     "iopub.status.idle": "2022-08-26T05:10:50.942908Z",
     "shell.execute_reply": "2022-08-26T05:10:50.941769Z"
    },
    "papermill": {
     "duration": 0.035414,
     "end_time": "2022-08-26T05:10:50.945844",
     "exception": false,
     "start_time": "2022-08-26T05:10:50.910430",
     "status": "completed"
    },
    "tags": []
   },
   "outputs": [],
   "source": [
    "from sklearn.preprocessing import OneHotEncoder\n",
    "from sklearn.pipeline import Pipeline\n",
    "pipeline= Pipeline([\n",
    "    ('one_hot_cat', OneHotEncoder())\n",
    "])\n",
    "train_pipelined = pipeline.fit_transform(train)"
   ]
  },
  {
   "cell_type": "code",
   "execution_count": 24,
   "id": "5d33e233",
   "metadata": {
    "execution": {
     "iopub.execute_input": "2022-08-26T05:10:50.978512Z",
     "iopub.status.busy": "2022-08-26T05:10:50.978089Z",
     "iopub.status.idle": "2022-08-26T05:10:50.983819Z",
     "shell.execute_reply": "2022-08-26T05:10:50.983007Z"
    },
    "papermill": {
     "duration": 0.024795,
     "end_time": "2022-08-26T05:10:50.986013",
     "exception": false,
     "start_time": "2022-08-26T05:10:50.961218",
     "status": "completed"
    },
    "tags": []
   },
   "outputs": [
    {
     "data": {
      "text/plain": [
       "(607, 474)"
      ]
     },
     "execution_count": 24,
     "metadata": {},
     "output_type": "execute_result"
    }
   ],
   "source": [
    "train_pipelined.shape"
   ]
  },
  {
   "cell_type": "code",
   "execution_count": 25,
   "id": "56c7b352",
   "metadata": {
    "execution": {
     "iopub.execute_input": "2022-08-26T05:10:51.019047Z",
     "iopub.status.busy": "2022-08-26T05:10:51.018194Z",
     "iopub.status.idle": "2022-08-26T05:10:51.172129Z",
     "shell.execute_reply": "2022-08-26T05:10:51.171183Z"
    },
    "papermill": {
     "duration": 0.17334,
     "end_time": "2022-08-26T05:10:51.174779",
     "exception": false,
     "start_time": "2022-08-26T05:10:51.001439",
     "status": "completed"
    },
    "tags": []
   },
   "outputs": [
    {
     "data": {
      "text/plain": [
       "LinearRegression()"
      ]
     },
     "execution_count": 25,
     "metadata": {},
     "output_type": "execute_result"
    }
   ],
   "source": [
    "from sklearn.linear_model import LinearRegression\n",
    "\n",
    "lr_model = LinearRegression()\n",
    "\n",
    "lr_model.fit(train_pipelined,train_labels)"
   ]
  },
  {
   "cell_type": "code",
   "execution_count": 26,
   "id": "5f826ca0",
   "metadata": {
    "execution": {
     "iopub.execute_input": "2022-08-26T05:10:51.208071Z",
     "iopub.status.busy": "2022-08-26T05:10:51.207327Z",
     "iopub.status.idle": "2022-08-26T05:10:51.216270Z",
     "shell.execute_reply": "2022-08-26T05:10:51.215249Z"
    },
    "papermill": {
     "duration": 0.028171,
     "end_time": "2022-08-26T05:10:51.218653",
     "exception": false,
     "start_time": "2022-08-26T05:10:51.190482",
     "status": "completed"
    },
    "tags": []
   },
   "outputs": [],
   "source": [
    "rand_features = train.iloc[:5]\n",
    "rand_labels = train_labels.iloc[:5]\n",
    "\n",
    "rand_pipelined = pipeline.transform(rand_features)"
   ]
  },
  {
   "cell_type": "code",
   "execution_count": null,
   "id": "5a1e89cc",
   "metadata": {
    "papermill": {
     "duration": 0.015118,
     "end_time": "2022-08-26T05:10:51.249503",
     "exception": false,
     "start_time": "2022-08-26T05:10:51.234385",
     "status": "completed"
    },
    "tags": []
   },
   "outputs": [],
   "source": []
  },
  {
   "cell_type": "code",
   "execution_count": 27,
   "id": "cdc3be66",
   "metadata": {
    "execution": {
     "iopub.execute_input": "2022-08-26T05:10:51.282924Z",
     "iopub.status.busy": "2022-08-26T05:10:51.282468Z",
     "iopub.status.idle": "2022-08-26T05:10:51.290159Z",
     "shell.execute_reply": "2022-08-26T05:10:51.288954Z"
    },
    "papermill": {
     "duration": 0.027307,
     "end_time": "2022-08-26T05:10:51.292564",
     "exception": false,
     "start_time": "2022-08-26T05:10:51.265257",
     "status": "completed"
    },
    "tags": []
   },
   "outputs": [
    {
     "data": {
      "text/plain": [
       "array([ 70000.81925409, 260000.84544294,  84997.41567587,  20000.45765365,\n",
       "       149997.26043518])"
      ]
     },
     "execution_count": 27,
     "metadata": {},
     "output_type": "execute_result"
    }
   ],
   "source": [
    "lr_model.predict(rand_pipelined)"
   ]
  },
  {
   "cell_type": "code",
   "execution_count": 28,
   "id": "2c8f3852",
   "metadata": {
    "execution": {
     "iopub.execute_input": "2022-08-26T05:10:51.326513Z",
     "iopub.status.busy": "2022-08-26T05:10:51.325457Z",
     "iopub.status.idle": "2022-08-26T05:10:51.332288Z",
     "shell.execute_reply": "2022-08-26T05:10:51.331462Z"
    },
    "papermill": {
     "duration": 0.026218,
     "end_time": "2022-08-26T05:10:51.334380",
     "exception": false,
     "start_time": "2022-08-26T05:10:51.308162",
     "status": "completed"
    },
    "tags": []
   },
   "outputs": [
    {
     "data": {
      "text/plain": [
       "[70000, 260000, 85000, 20000, 150000]"
      ]
     },
     "execution_count": 28,
     "metadata": {},
     "output_type": "execute_result"
    }
   ],
   "source": [
    "list(rand_labels)"
   ]
  },
  {
   "cell_type": "code",
   "execution_count": 29,
   "id": "5fc76333",
   "metadata": {
    "execution": {
     "iopub.execute_input": "2022-08-26T05:10:51.368613Z",
     "iopub.status.busy": "2022-08-26T05:10:51.367882Z",
     "iopub.status.idle": "2022-08-26T05:10:51.374632Z",
     "shell.execute_reply": "2022-08-26T05:10:51.373479Z"
    },
    "papermill": {
     "duration": 0.026454,
     "end_time": "2022-08-26T05:10:51.377039",
     "exception": false,
     "start_time": "2022-08-26T05:10:51.350585",
     "status": "completed"
    },
    "tags": []
   },
   "outputs": [],
   "source": [
    "test = test_data.drop('salary',axis=1)\n",
    "test_labels = test_data['salary'].copy()"
   ]
  },
  {
   "cell_type": "code",
   "execution_count": 30,
   "id": "9929dbdd",
   "metadata": {
    "execution": {
     "iopub.execute_input": "2022-08-26T05:10:51.410655Z",
     "iopub.status.busy": "2022-08-26T05:10:51.410201Z",
     "iopub.status.idle": "2022-08-26T05:10:51.418609Z",
     "shell.execute_reply": "2022-08-26T05:10:51.417769Z"
    },
    "papermill": {
     "duration": 0.027736,
     "end_time": "2022-08-26T05:10:51.420824",
     "exception": false,
     "start_time": "2022-08-26T05:10:51.393088",
     "status": "completed"
    },
    "tags": []
   },
   "outputs": [],
   "source": [
    "test_pipelined = pipeline.transform(test)"
   ]
  },
  {
   "cell_type": "code",
   "execution_count": 31,
   "id": "6b51d7af",
   "metadata": {
    "execution": {
     "iopub.execute_input": "2022-08-26T05:10:51.455057Z",
     "iopub.status.busy": "2022-08-26T05:10:51.454186Z",
     "iopub.status.idle": "2022-08-26T05:10:51.459851Z",
     "shell.execute_reply": "2022-08-26T05:10:51.458866Z"
    },
    "papermill": {
     "duration": 0.025295,
     "end_time": "2022-08-26T05:10:51.462232",
     "exception": false,
     "start_time": "2022-08-26T05:10:51.436937",
     "status": "completed"
    },
    "tags": []
   },
   "outputs": [],
   "source": [
    "lr_pred = lr_model.predict(test_pipelined)"
   ]
  },
  {
   "cell_type": "code",
   "execution_count": 32,
   "id": "749f32ee",
   "metadata": {
    "execution": {
     "iopub.execute_input": "2022-08-26T05:10:51.496101Z",
     "iopub.status.busy": "2022-08-26T05:10:51.495367Z",
     "iopub.status.idle": "2022-08-26T05:10:51.502508Z",
     "shell.execute_reply": "2022-08-26T05:10:51.501666Z"
    },
    "papermill": {
     "duration": 0.026504,
     "end_time": "2022-08-26T05:10:51.504643",
     "exception": false,
     "start_time": "2022-08-26T05:10:51.478139",
     "status": "completed"
    },
    "tags": []
   },
   "outputs": [
    {
     "data": {
      "text/plain": [
       "0.9999999999993617"
      ]
     },
     "execution_count": 32,
     "metadata": {},
     "output_type": "execute_result"
    }
   ],
   "source": [
    "from sklearn.metrics import mean_squared_error\n",
    "\n",
    "lr_model.score(test_pipelined,test_labels)"
   ]
  },
  {
   "cell_type": "code",
   "execution_count": 33,
   "id": "bffcc414",
   "metadata": {
    "execution": {
     "iopub.execute_input": "2022-08-26T05:10:51.538905Z",
     "iopub.status.busy": "2022-08-26T05:10:51.538140Z",
     "iopub.status.idle": "2022-08-26T05:10:51.649080Z",
     "shell.execute_reply": "2022-08-26T05:10:51.647803Z"
    },
    "papermill": {
     "duration": 0.130808,
     "end_time": "2022-08-26T05:10:51.651626",
     "exception": false,
     "start_time": "2022-08-26T05:10:51.520818",
     "status": "completed"
    },
    "tags": []
   },
   "outputs": [
    {
     "data": {
      "text/plain": [
       "DecisionTreeRegressor()"
      ]
     },
     "execution_count": 33,
     "metadata": {},
     "output_type": "execute_result"
    }
   ],
   "source": [
    "from sklearn.tree import DecisionTreeRegressor\n",
    "tree_reg = DecisionTreeRegressor()\n",
    "\n",
    "tree_reg.fit(train_pipelined,train_labels)"
   ]
  },
  {
   "cell_type": "code",
   "execution_count": 34,
   "id": "4b03253b",
   "metadata": {
    "execution": {
     "iopub.execute_input": "2022-08-26T05:10:51.685923Z",
     "iopub.status.busy": "2022-08-26T05:10:51.685460Z",
     "iopub.status.idle": "2022-08-26T05:10:51.694849Z",
     "shell.execute_reply": "2022-08-26T05:10:51.693537Z"
    },
    "papermill": {
     "duration": 0.029284,
     "end_time": "2022-08-26T05:10:51.697213",
     "exception": false,
     "start_time": "2022-08-26T05:10:51.667929",
     "status": "completed"
    },
    "tags": []
   },
   "outputs": [
    {
     "data": {
      "text/plain": [
       "1.0"
      ]
     },
     "execution_count": 34,
     "metadata": {},
     "output_type": "execute_result"
    }
   ],
   "source": [
    "tree_reg.score(test_pipelined,test_labels)"
   ]
  },
  {
   "cell_type": "code",
   "execution_count": null,
   "id": "f1364f5f",
   "metadata": {
    "papermill": {
     "duration": 0.015716,
     "end_time": "2022-08-26T05:10:51.729108",
     "exception": false,
     "start_time": "2022-08-26T05:10:51.713392",
     "status": "completed"
    },
    "tags": []
   },
   "outputs": [],
   "source": []
  },
  {
   "cell_type": "code",
   "execution_count": null,
   "id": "11eafbb9",
   "metadata": {
    "papermill": {
     "duration": 0.015885,
     "end_time": "2022-08-26T05:10:51.762483",
     "exception": false,
     "start_time": "2022-08-26T05:10:51.746598",
     "status": "completed"
    },
    "tags": []
   },
   "outputs": [],
   "source": []
  },
  {
   "cell_type": "code",
   "execution_count": null,
   "id": "fe27dffa",
   "metadata": {
    "papermill": {
     "duration": 0.016154,
     "end_time": "2022-08-26T05:10:51.794857",
     "exception": false,
     "start_time": "2022-08-26T05:10:51.778703",
     "status": "completed"
    },
    "tags": []
   },
   "outputs": [],
   "source": []
  },
  {
   "cell_type": "code",
   "execution_count": null,
   "id": "c605a4ce",
   "metadata": {
    "papermill": {
     "duration": 0.01559,
     "end_time": "2022-08-26T05:10:51.826466",
     "exception": false,
     "start_time": "2022-08-26T05:10:51.810876",
     "status": "completed"
    },
    "tags": []
   },
   "outputs": [],
   "source": []
  },
  {
   "cell_type": "code",
   "execution_count": null,
   "id": "6d66db8f",
   "metadata": {
    "papermill": {
     "duration": 0.015672,
     "end_time": "2022-08-26T05:10:51.858214",
     "exception": false,
     "start_time": "2022-08-26T05:10:51.842542",
     "status": "completed"
    },
    "tags": []
   },
   "outputs": [],
   "source": []
  },
  {
   "cell_type": "code",
   "execution_count": null,
   "id": "3ecceead",
   "metadata": {
    "papermill": {
     "duration": 0.015543,
     "end_time": "2022-08-26T05:10:51.889785",
     "exception": false,
     "start_time": "2022-08-26T05:10:51.874242",
     "status": "completed"
    },
    "tags": []
   },
   "outputs": [],
   "source": []
  },
  {
   "cell_type": "code",
   "execution_count": 35,
   "id": "9c3287f9",
   "metadata": {
    "execution": {
     "iopub.execute_input": "2022-08-26T05:10:51.924003Z",
     "iopub.status.busy": "2022-08-26T05:10:51.923483Z",
     "iopub.status.idle": "2022-08-26T05:10:51.932697Z",
     "shell.execute_reply": "2022-08-26T05:10:51.931666Z"
    },
    "papermill": {
     "duration": 0.029386,
     "end_time": "2022-08-26T05:10:51.935197",
     "exception": false,
     "start_time": "2022-08-26T05:10:51.905811",
     "status": "completed"
    },
    "tags": []
   },
   "outputs": [
    {
     "data": {
      "text/plain": [
       "job_title\n",
       "Machine Learning Developer                  3\n",
       "Machine Learning Infrastructure Engineer    3\n",
       "Lead Data Scientist                         3\n",
       "Lead Data Analyst                           3\n",
       "Data Science Engineer                       3\n",
       "Principal Data Engineer                     3\n",
       "Computer Vision Software Engineer           3\n",
       "Principal Data Analyst                      2\n",
       "Financial Data Analyst                      2\n",
       "ETL Developer                               2\n",
       "Director of Data Engineering                2\n",
       "Product Data Analyst                        2\n",
       "Cloud Data Engineer                         2\n",
       "NLP Engineer                                1\n",
       "Marketing Data Analyst                      1\n",
       "3D Computer Vision Researcher               1\n",
       "Machine Learning Manager                    1\n",
       "Lead Machine Learning Engineer              1\n",
       "Head of Machine Learning                    1\n",
       "Finance Data Analyst                        1\n",
       "Data Specialist                             1\n",
       "Data Analytics Lead                         1\n",
       "Big Data Architect                          1\n",
       "Staff Data Scientist                        1\n",
       "Name: job_title, dtype: int64"
      ]
     },
     "execution_count": 35,
     "metadata": {},
     "output_type": "execute_result"
    }
   ],
   "source": [
    "job_title_cat_other"
   ]
  }
 ],
 "metadata": {
  "kernelspec": {
   "display_name": "Python 3",
   "language": "python",
   "name": "python3"
  },
  "language_info": {
   "codemirror_mode": {
    "name": "ipython",
    "version": 3
   },
   "file_extension": ".py",
   "mimetype": "text/x-python",
   "name": "python",
   "nbconvert_exporter": "python",
   "pygments_lexer": "ipython3",
   "version": "3.7.12"
  },
  "papermill": {
   "default_parameters": {},
   "duration": 23.395345,
   "end_time": "2022-08-26T05:10:53.076934",
   "environment_variables": {},
   "exception": null,
   "input_path": "__notebook__.ipynb",
   "output_path": "__notebook__.ipynb",
   "parameters": {},
   "start_time": "2022-08-26T05:10:29.681589",
   "version": "2.3.4"
  }
 },
 "nbformat": 4,
 "nbformat_minor": 5
}
